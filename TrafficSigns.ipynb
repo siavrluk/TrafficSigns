{
 "cells": [
  {
   "cell_type": "code",
   "execution_count": 53,
   "metadata": {},
   "outputs": [],
   "source": [
    "import numpy as np\n",
    "import pandas as pd\n",
    "import matplotlib.pyplot as plt\n",
    "from PIL import Image\n",
    "import os\n",
    "from skimage.transform import resize\n",
    "from sklearn.model_selection import train_test_split\n",
    "from sklearn.metrics import accuracy_score\n",
    "from keras.models import Sequential\n",
    "from keras.layers import Conv2D, MaxPool2D, Dense, Flatten, Dropout\n",
    "from keras.utils import to_categorical"
   ]
  },
  {
   "cell_type": "code",
   "execution_count": 2,
   "metadata": {},
   "outputs": [
    {
     "data": {
      "text/plain": [
       "'/Users/silvana/Documents/Projects/TrafficSigns'"
      ]
     },
     "execution_count": 2,
     "metadata": {},
     "output_type": "execute_result"
    }
   ],
   "source": [
    "cwd = os.getcwd()\n",
    "cwd"
   ]
  },
  {
   "cell_type": "code",
   "execution_count": 3,
   "metadata": {},
   "outputs": [
    {
     "data": {
      "image/png": "[encoded data removed]",
      "text/plain": [
       "<PIL.PngImagePlugin.PngImageFile image mode=RGB size=71x72 at 0x7F8ABD253430>"
      ]
     },
     "execution_count": 3,
     "metadata": {},
     "output_type": "execute_result"
    }
   ],
   "source": [
    "img = Image.open('82373-191501-bundle-archive/Train/1/00001_00000_00016.png')\n",
    "img"
   ]
  },
  {
   "cell_type": "markdown",
   "metadata": {},
   "source": [
    "Data is organized in train, test, and meta folders. The train folder contains 43 subfolders (corresponding to the 43 different classes), each containing images from the respective class. The test folder contains images that need to be classified. In the meta folder we find sign images. \n",
    "\n",
    "First step is to combine the images in the training dataset in two lists -- one containing the image name and the other one containing its label. "
   ]
  },
  {
   "cell_type": "code",
   "execution_count": 4,
   "metadata": {},
   "outputs": [],
   "source": [
    "images = []\n",
    "labels = []\n",
    "\n",
    "for i in range(43):\n",
    "    class_path = cwd + '/82373-191501-bundle-archive/Train/' + str(i)\n",
    "    class_folder = os.listdir(class_path)\n",
    "    \n",
    "    for img in class_folder:\n",
    "        img = Image.open(class_path + '/' + img)\n",
    "        img = np.array(img)\n",
    "        images.append(img)\n",
    "        labels.append(i)"
   ]
  },
  {
   "cell_type": "markdown",
   "metadata": {},
   "source": [
    "The most powerful models for handling image data are CNNs. Before feeding the images into such a model, we want to make sure they are of the same size."
   ]
  },
  {
   "cell_type": "code",
   "execution_count": 5,
   "metadata": {},
   "outputs": [],
   "source": [
    "min_width = 10**6\n",
    "max_width = 0\n",
    "min_height = 10**6\n",
    "max_height = 0;\n",
    "channels = 10\n",
    "\n",
    "for i in range(len(images)):\n",
    "    if images[i].shape[0]  < min_width: \n",
    "        min_width = images[i].shape[0]\n",
    "    if images[i].shape[0]  > max_width: \n",
    "        max_width = images[i].shape[0]\n",
    "    if images[i].shape[1]  < min_height: \n",
    "        min_height = images[i].shape[1]\n",
    "    if images[i].shape[1]  > max_height: \n",
    "        max_height = images[i].shape[1]\n",
    "    if images[i].shape[2]  < channels: \n",
    "        channels = images[i].shape[2]"
   ]
  },
  {
   "cell_type": "code",
   "execution_count": 6,
   "metadata": {},
   "outputs": [
    {
     "name": "stdout",
     "output_type": "stream",
     "text": [
      "min/max width: 25 225\n",
      "min/max height: 25 243\n",
      "min number of channels: 3\n"
     ]
    }
   ],
   "source": [
    "print('min/max width:', min_width, max_width)\n",
    "print('min/max height:', min_height, max_height)\n",
    "print('min number of channels:', channels)"
   ]
  },
  {
   "cell_type": "markdown",
   "metadata": {},
   "source": [
    "Since both *min_width* and *min_height* are 25, we are going to resize all images to be of shape 25x25 pixels. All images in the data size have 3 channels, i.e. are colorful images."
   ]
  },
  {
   "cell_type": "code",
   "execution_count": 7,
   "metadata": {},
   "outputs": [],
   "source": [
    "images_resized = []\n",
    "\n",
    "for i in range(len(images)):\n",
    "    images_resized.append(resize(images[i], (25, 25)))\n",
    "    \n",
    "images_resized = np.array(images_resized)"
   ]
  },
  {
   "cell_type": "code",
   "execution_count": 8,
   "metadata": {},
   "outputs": [
    {
     "name": "stdout",
     "output_type": "stream",
     "text": [
      "(39209, 25, 25, 3) (39209,)\n"
     ]
    }
   ],
   "source": [
    "# converto to numpy arrays\n",
    "images_resized = np.array(images_resized)\n",
    "labels = np.array(labels)\n",
    "\n",
    "print(images_resized.shape, labels.shape)"
   ]
  },
  {
   "cell_type": "code",
   "execution_count": 9,
   "metadata": {},
   "outputs": [],
   "source": [
    "# convert the classes into a categorical variable\n",
    "labels = to_categorical(labels, 43)"
   ]
  },
  {
   "cell_type": "markdown",
   "metadata": {},
   "source": [
    "# Modeling"
   ]
  },
  {
   "cell_type": "code",
   "execution_count": 10,
   "metadata": {},
   "outputs": [],
   "source": [
    "# split into train and test datasets\n",
    "images_train, images_valid, labels_train, labels_valid = train_test_split(images_resized, labels, \n",
    "                                                                        test_size=0.2, random_state=7)"
   ]
  },
  {
   "cell_type": "code",
   "execution_count": 36,
   "metadata": {},
   "outputs": [],
   "source": [
    "# build the model\n",
    "input_shape = images_train[0].shape\n",
    "\n",
    "model = Sequential()\n",
    "model.add(Conv2D(128, kernel_size=(3,3), activation='relu', input_shape=input_shape))\n",
    "model.add(MaxPool2D(pool_size=(2,2)))\n",
    "model.add(Conv2D(64, kernel_size=(3,3), activation='relu'))\n",
    "model.add(MaxPool2D(pool_size=(2,2)))\n",
    "model.add(Flatten())\n",
    "model.add(Dense(43, activation='softmax'))"
   ]
  },
  {
   "cell_type": "code",
   "execution_count": 37,
   "metadata": {},
   "outputs": [],
   "source": [
    "# compile the model\n",
    "model.compile(loss='categorical_crossentropy', optimizer='adam', metrics=['accuracy'])"
   ]
  },
  {
   "cell_type": "code",
   "execution_count": 38,
   "metadata": {},
   "outputs": [
    {
     "name": "stdout",
     "output_type": "stream",
     "text": [
      "(31367, 25, 25, 3) (31367, 43)\n",
      "(7842, 25, 25, 3) (7842, 43)\n"
     ]
    }
   ],
   "source": [
    "print(images_train.shape, labels_train.shape)\n",
    "print(images_valid.shape, labels_valid.shape)"
   ]
  },
  {
   "cell_type": "code",
   "execution_count": 39,
   "metadata": {},
   "outputs": [
    {
     "name": "stdout",
     "output_type": "stream",
     "text": [
      "Epoch 1/50\n",
      "491/491 [==============================] - 34s 70ms/step - loss: 1.5083 - accuracy: 0.5988 - val_loss: 0.4971 - val_accuracy: 0.8704\n",
      "Epoch 2/50\n",
      "491/491 [==============================] - 46s 94ms/step - loss: 0.3058 - accuracy: 0.9228 - val_loss: 0.2237 - val_accuracy: 0.9472\n",
      "Epoch 3/50\n",
      "491/491 [==============================] - 51s 104ms/step - loss: 0.1626 - accuracy: 0.9603 - val_loss: 0.1852 - val_accuracy: 0.9522\n",
      "Epoch 4/50\n",
      "491/491 [==============================] - 53s 108ms/step - loss: 0.1056 - accuracy: 0.9745 - val_loss: 0.1258 - val_accuracy: 0.9742\n",
      "Epoch 5/50\n",
      "491/491 [==============================] - 50s 102ms/step - loss: 0.0771 - accuracy: 0.9813 - val_loss: 0.1107 - val_accuracy: 0.9768\n",
      "Epoch 6/50\n",
      "491/491 [==============================] - 49s 100ms/step - loss: 0.0585 - accuracy: 0.9861 - val_loss: 0.1047 - val_accuracy: 0.9778\n",
      "Epoch 7/50\n",
      "491/491 [==============================] - 48s 97ms/step - loss: 0.0454 - accuracy: 0.9885 - val_loss: 0.1214 - val_accuracy: 0.9728\n",
      "Epoch 8/50\n",
      "491/491 [==============================] - 47s 96ms/step - loss: 0.0367 - accuracy: 0.9908 - val_loss: 0.1063 - val_accuracy: 0.9758\n",
      "Epoch 9/50\n",
      "491/491 [==============================] - 45s 92ms/step - loss: 0.0325 - accuracy: 0.9921 - val_loss: 0.0987 - val_accuracy: 0.9815\n",
      "Epoch 10/50\n",
      "491/491 [==============================] - 42s 86ms/step - loss: 0.0303 - accuracy: 0.9926 - val_loss: 0.0884 - val_accuracy: 0.9827\n",
      "Epoch 11/50\n",
      "491/491 [==============================] - 38s 78ms/step - loss: 0.0184 - accuracy: 0.9955 - val_loss: 0.0896 - val_accuracy: 0.9856\n",
      "Epoch 12/50\n",
      "491/491 [==============================] - 45s 92ms/step - loss: 0.0193 - accuracy: 0.9952 - val_loss: 0.0900 - val_accuracy: 0.9837\n",
      "Epoch 13/50\n",
      "491/491 [==============================] - 46s 94ms/step - loss: 0.0206 - accuracy: 0.9945 - val_loss: 0.0980 - val_accuracy: 0.9830\n",
      "Epoch 14/50\n",
      "491/491 [==============================] - 42s 85ms/step - loss: 0.0249 - accuracy: 0.9938 - val_loss: 0.1253 - val_accuracy: 0.9742\n",
      "Epoch 15/50\n",
      "491/491 [==============================] - 40s 82ms/step - loss: 0.0165 - accuracy: 0.9957 - val_loss: 0.0807 - val_accuracy: 0.9869\n",
      "Epoch 16/50\n",
      "491/491 [==============================] - 41s 84ms/step - loss: 0.0103 - accuracy: 0.9974 - val_loss: 0.0942 - val_accuracy: 0.9839\n",
      "Epoch 17/50\n",
      "491/491 [==============================] - 43s 87ms/step - loss: 0.0169 - accuracy: 0.9958 - val_loss: 0.0941 - val_accuracy: 0.9832\n",
      "Epoch 18/50\n",
      "491/491 [==============================] - 43s 87ms/step - loss: 0.0084 - accuracy: 0.9980 - val_loss: 0.0786 - val_accuracy: 0.9874\n",
      "Epoch 19/50\n",
      "491/491 [==============================] - 41s 83ms/step - loss: 0.0044 - accuracy: 0.9993 - val_loss: 0.0846 - val_accuracy: 0.9856\n",
      "Epoch 20/50\n",
      "491/491 [==============================] - 40s 82ms/step - loss: 0.0154 - accuracy: 0.9955 - val_loss: 0.0867 - val_accuracy: 0.9860\n",
      "Epoch 21/50\n",
      "491/491 [==============================] - 41s 83ms/step - loss: 0.0118 - accuracy: 0.9972 - val_loss: 0.0809 - val_accuracy: 0.9875\n",
      "Epoch 22/50\n",
      "491/491 [==============================] - 39s 80ms/step - loss: 0.0053 - accuracy: 0.9990 - val_loss: 0.0754 - val_accuracy: 0.9901\n",
      "Epoch 23/50\n",
      "491/491 [==============================] - 44s 89ms/step - loss: 0.0021 - accuracy: 0.9999 - val_loss: 0.0722 - val_accuracy: 0.9901\n",
      "Epoch 24/50\n",
      "491/491 [==============================] - 40s 81ms/step - loss: 0.0013 - accuracy: 0.9999 - val_loss: 0.0729 - val_accuracy: 0.9902\n",
      "Epoch 25/50\n",
      "491/491 [==============================] - 40s 82ms/step - loss: 0.0204 - accuracy: 0.9947 - val_loss: 0.0886 - val_accuracy: 0.9842\n",
      "Epoch 26/50\n",
      "491/491 [==============================] - 37s 76ms/step - loss: 0.0117 - accuracy: 0.9969 - val_loss: 0.0907 - val_accuracy: 0.9861\n",
      "Epoch 27/50\n",
      "491/491 [==============================] - 36s 74ms/step - loss: 0.0049 - accuracy: 0.9987 - val_loss: 0.0688 - val_accuracy: 0.9909\n",
      "Epoch 28/50\n",
      "491/491 [==============================] - 36s 73ms/step - loss: 0.0062 - accuracy: 0.9983 - val_loss: 0.0885 - val_accuracy: 0.9853\n",
      "Epoch 29/50\n",
      "491/491 [==============================] - 36s 73ms/step - loss: 0.0051 - accuracy: 0.9986 - val_loss: 0.0672 - val_accuracy: 0.9903\n",
      "Epoch 30/50\n",
      "491/491 [==============================] - 36s 73ms/step - loss: 0.0019 - accuracy: 0.9997 - val_loss: 0.0708 - val_accuracy: 0.9916\n",
      "Epoch 31/50\n",
      "491/491 [==============================] - 36s 73ms/step - loss: 7.2391e-04 - accuracy: 1.0000 - val_loss: 0.0679 - val_accuracy: 0.9920\n",
      "Epoch 32/50\n",
      "491/491 [==============================] - 36s 73ms/step - loss: 4.3955e-04 - accuracy: 1.0000 - val_loss: 0.0696 - val_accuracy: 0.9916\n",
      "Epoch 33/50\n",
      "491/491 [==============================] - 65s 133ms/step - loss: 3.2646e-04 - accuracy: 1.0000 - val_loss: 0.0704 - val_accuracy: 0.9915\n",
      "Epoch 34/50\n",
      "491/491 [==============================] - 864s 2s/step - loss: 2.9518e-04 - accuracy: 1.0000 - val_loss: 0.0745 - val_accuracy: 0.9909\n",
      "Epoch 35/50\n",
      "491/491 [==============================] - 271s 552ms/step - loss: 2.2698e-04 - accuracy: 1.0000 - val_loss: 0.0734 - val_accuracy: 0.9920\n",
      "Epoch 36/50\n",
      "491/491 [==============================] - 751s 2s/step - loss: 0.0131 - accuracy: 0.9966 - val_loss: 0.1169 - val_accuracy: 0.9811\n",
      "Epoch 37/50\n",
      "491/491 [==============================] - 130s 265ms/step - loss: 0.0223 - accuracy: 0.9939 - val_loss: 0.0718 - val_accuracy: 0.9889\n",
      "Epoch 38/50\n",
      "491/491 [==============================] - 36s 73ms/step - loss: 0.0026 - accuracy: 0.9993 - val_loss: 0.0769 - val_accuracy: 0.9889\n",
      "Epoch 39/50\n",
      "491/491 [==============================] - 40s 81ms/step - loss: 0.0025 - accuracy: 0.9993 - val_loss: 0.0787 - val_accuracy: 0.9889\n",
      "Epoch 40/50\n",
      "491/491 [==============================] - 38s 77ms/step - loss: 0.0044 - accuracy: 0.9989 - val_loss: 0.0817 - val_accuracy: 0.9897\n",
      "Epoch 41/50\n",
      "491/491 [==============================] - 46s 94ms/step - loss: 0.0106 - accuracy: 0.9974 - val_loss: 0.0783 - val_accuracy: 0.9899\n",
      "Epoch 42/50\n",
      "491/491 [==============================] - 48s 98ms/step - loss: 0.0021 - accuracy: 0.9996 - val_loss: 0.0773 - val_accuracy: 0.9901\n",
      "Epoch 43/50\n",
      "491/491 [==============================] - 41s 83ms/step - loss: 9.1038e-04 - accuracy: 0.9998 - val_loss: 0.0752 - val_accuracy: 0.9912\n",
      "Epoch 44/50\n",
      "491/491 [==============================] - 39s 80ms/step - loss: 3.9850e-04 - accuracy: 1.0000 - val_loss: 0.0773 - val_accuracy: 0.9902\n",
      "Epoch 45/50\n",
      "491/491 [==============================] - 38s 77ms/step - loss: 0.0071 - accuracy: 0.9986 - val_loss: 0.0964 - val_accuracy: 0.9867\n",
      "Epoch 46/50\n",
      "491/491 [==============================] - 37s 76ms/step - loss: 0.0053 - accuracy: 0.9985 - val_loss: 0.1133 - val_accuracy: 0.9852\n",
      "Epoch 47/50\n",
      "491/491 [==============================] - 37s 75ms/step - loss: 0.0096 - accuracy: 0.9973 - val_loss: 0.1207 - val_accuracy: 0.9858\n",
      "Epoch 48/50\n",
      "491/491 [==============================] - 36s 74ms/step - loss: 0.0038 - accuracy: 0.9992 - val_loss: 0.1014 - val_accuracy: 0.9875\n",
      "Epoch 49/50\n",
      "491/491 [==============================] - 35s 70ms/step - loss: 3.8236e-04 - accuracy: 1.0000 - val_loss: 0.0831 - val_accuracy: 0.9917\n",
      "Epoch 50/50\n",
      "491/491 [==============================] - 35s 71ms/step - loss: 1.6424e-04 - accuracy: 1.0000 - val_loss: 0.0832 - val_accuracy: 0.9921\n"
     ]
    }
   ],
   "source": [
    "# train and validate the model\n",
    "history = model.fit(images_train, labels_train, batch_size=64, epochs=50, validation_data=(images_valid, labels_valid))"
   ]
  },
  {
   "cell_type": "markdown",
   "metadata": {},
   "source": [
    "# plot loss\n",
    "plt.figure()\n",
    "plt.plot(history.history['loss'], label='training')\n",
    "plt.plot(history.history['val_loss'], label='validation')\n",
    "plt.title('Loss')\n",
    "plt.legend()\n",
    "\n",
    "#plot accuracy\n",
    "plt.figure()\n",
    "plt.plot(history.history['accuracy'], label='training')\n",
    "plt.plot(history.history['val_accuracy'], label='validation')\n",
    "plt.title('Accuracy')\n",
    "plt.legend();"
   ]
  },
  {
   "cell_type": "markdown",
   "metadata": {},
   "source": [
    "# Test the model with unseen data"
   ]
  },
  {
   "cell_type": "code",
   "execution_count": 42,
   "metadata": {},
   "outputs": [
    {
     "data": {
      "text/html": [
       "<div>\n",
       "<style scoped>\n",
       "    .dataframe tbody tr th:only-of-type {\n",
       "        vertical-align: middle;\n",
       "    }\n",
       "\n",
       "    .dataframe tbody tr th {\n",
       "        vertical-align: top;\n",
       "    }\n",
       "\n",
       "    .dataframe thead th {\n",
       "        text-align: right;\n",
       "    }\n",
       "</style>\n",
       "<table border=\"1\" class=\"dataframe\">\n",
       "  <thead>\n",
       "    <tr style=\"text-align: right;\">\n",
       "      <th></th>\n",
       "      <th>Width</th>\n",
       "      <th>Height</th>\n",
       "      <th>Roi.X1</th>\n",
       "      <th>Roi.Y1</th>\n",
       "      <th>Roi.X2</th>\n",
       "      <th>Roi.Y2</th>\n",
       "      <th>ClassId</th>\n",
       "      <th>Path</th>\n",
       "    </tr>\n",
       "  </thead>\n",
       "  <tbody>\n",
       "    <tr>\n",
       "      <th>0</th>\n",
       "      <td>53</td>\n",
       "      <td>54</td>\n",
       "      <td>6</td>\n",
       "      <td>5</td>\n",
       "      <td>48</td>\n",
       "      <td>49</td>\n",
       "      <td>16</td>\n",
       "      <td>Test/00000.png</td>\n",
       "    </tr>\n",
       "    <tr>\n",
       "      <th>1</th>\n",
       "      <td>42</td>\n",
       "      <td>45</td>\n",
       "      <td>5</td>\n",
       "      <td>5</td>\n",
       "      <td>36</td>\n",
       "      <td>40</td>\n",
       "      <td>1</td>\n",
       "      <td>Test/00001.png</td>\n",
       "    </tr>\n",
       "    <tr>\n",
       "      <th>2</th>\n",
       "      <td>48</td>\n",
       "      <td>52</td>\n",
       "      <td>6</td>\n",
       "      <td>6</td>\n",
       "      <td>43</td>\n",
       "      <td>47</td>\n",
       "      <td>38</td>\n",
       "      <td>Test/00002.png</td>\n",
       "    </tr>\n",
       "    <tr>\n",
       "      <th>3</th>\n",
       "      <td>27</td>\n",
       "      <td>29</td>\n",
       "      <td>5</td>\n",
       "      <td>5</td>\n",
       "      <td>22</td>\n",
       "      <td>24</td>\n",
       "      <td>33</td>\n",
       "      <td>Test/00003.png</td>\n",
       "    </tr>\n",
       "    <tr>\n",
       "      <th>4</th>\n",
       "      <td>60</td>\n",
       "      <td>57</td>\n",
       "      <td>5</td>\n",
       "      <td>5</td>\n",
       "      <td>55</td>\n",
       "      <td>52</td>\n",
       "      <td>11</td>\n",
       "      <td>Test/00004.png</td>\n",
       "    </tr>\n",
       "  </tbody>\n",
       "</table>\n",
       "</div>"
      ],
      "text/plain": [
       "   Width  Height  Roi.X1  Roi.Y1  Roi.X2  Roi.Y2  ClassId            Path\n",
       "0     53      54       6       5      48      49       16  Test/00000.png\n",
       "1     42      45       5       5      36      40        1  Test/00001.png\n",
       "2     48      52       6       6      43      47       38  Test/00002.png\n",
       "3     27      29       5       5      22      24       33  Test/00003.png\n",
       "4     60      57       5       5      55      52       11  Test/00004.png"
      ]
     },
     "execution_count": 42,
     "metadata": {},
     "output_type": "execute_result"
    }
   ],
   "source": [
    "data_test = pd.read_csv('82373-191501-bundle-archive/Test.csv')\n",
    "data_test.head()"
   ]
  },
  {
   "cell_type": "code",
   "execution_count": 51,
   "metadata": {},
   "outputs": [],
   "source": [
    "test_img_files = data_test['Path']\n",
    "labels_test = data_test['ClassId']"
   ]
  },
  {
   "cell_type": "code",
   "execution_count": 48,
   "metadata": {},
   "outputs": [],
   "source": [
    "# read in and resize the images\n",
    "images = []\n",
    "\n",
    "for img in test_img_files:\n",
    "    img = Image.open(cwd + '/82373-191501-bundle-archive/' + img)\n",
    "    img = img.resize((25,25))\n",
    "    img = np.array(img)\n",
    "    images.append(img)"
   ]
  },
  {
   "cell_type": "code",
   "execution_count": 50,
   "metadata": {},
   "outputs": [],
   "source": [
    "images_test = np.array(images)"
   ]
  },
  {
   "cell_type": "code",
   "execution_count": 54,
   "metadata": {},
   "outputs": [],
   "source": [
    "# predict on the test dataset\n",
    "pred_labels = model.predict_classes(images_test)"
   ]
  },
  {
   "cell_type": "code",
   "execution_count": 55,
   "metadata": {},
   "outputs": [
    {
     "data": {
      "text/plain": [
       "0.9364212193190815"
      ]
     },
     "execution_count": 55,
     "metadata": {},
     "output_type": "execute_result"
    }
   ],
   "source": [
    "accuracy_score(labels_test, pred_labels)"
   ]
  },
  {
   "cell_type": "code",
   "execution_count": 56,
   "metadata": {},
   "outputs": [],
   "source": [
    "model.save('TraficSigns.h5')"
   ]
  }
 ],
 "metadata": {
  "kernelspec": {
   "display_name": "Python37",
   "language": "python",
   "name": "python37"
  },
  "language_info": {
   "codemirror_mode": {
    "name": "ipython",
    "version": 3
   },
   "file_extension": ".py",
   "mimetype": "text/x-python",
   "name": "python",
   "nbconvert_exporter": "python",
   "pygments_lexer": "ipython3",
   "version": "3.8.3"
  }
 },
 "nbformat": 4,
 "nbformat_minor": 4
}
